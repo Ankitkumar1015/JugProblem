{
  "nbformat": 4,
  "nbformat_minor": 0,
  "metadata": {
    "colab": {
      "provenance": [],
      "authorship_tag": "ABX9TyMmWNgs45yxD7cBjKSPqxT4",
      "include_colab_link": true
    },
    "kernelspec": {
      "name": "python3",
      "display_name": "Python 3"
    },
    "language_info": {
      "name": "python"
    }
  },
  "cells": [
    {
      "cell_type": "markdown",
      "metadata": {
        "id": "view-in-github",
        "colab_type": "text"
      },
      "source": [
        "<a href=\"https://colab.research.google.com/github/Ankitkumar1015/JugProblem/blob/main/Untitled5.ipynb\" target=\"_parent\"><img src=\"https://colab.research.google.com/assets/colab-badge.svg\" alt=\"Open In Colab\"/></a>"
      ]
    },
    {
      "cell_type": "code",
      "execution_count": null,
      "metadata": {
        "colab": {
          "base_uri": "https://localhost:8080/"
        },
        "id": "gyUlUSMxNGMH",
        "outputId": "9a542513-3942-47ac-9f2e-1b850696cd0b"
      },
      "outputs": [
        {
          "output_type": "stream",
          "name": "stdout",
          "text": [
            "enter the max capacity of jug a4\n",
            "enter the max capacity of jug b3\n",
            "enter the quantity of fill jug B2\n",
            "JUg A \t Jug B\n",
            "0\t0\n",
            "4\t0\n",
            "1\t3\n",
            "1\t0\n",
            "0\t1\n",
            "4\t1\n",
            "2\t3\n",
            "2\t0\n",
            "0\t2\n",
            "Final state :jugA ={juga},jug B ={jugb}\n",
            "\n",
            "enter the quantity to fill juga2\n",
            "JUg A \t Jug B\n",
            "0\t0\n",
            "0\t3\n",
            "3\t0\n",
            "3\t3\n",
            "4\t2\n",
            "0\t2\n"
          ]
        }
      ],
      "source": [
        "def  fill_jug_to_target(max1, max2, target , jug_to_fill):\n",
        "    juga,jugb =0,0\n",
        "\n",
        "    print(\"JUg A \\t Jug B\")\n",
        "    print(f\"{juga}\\t{jugb}\")\n",
        "    while(jugb if jug_to_fill ==\"B\"else juga)!=target:\n",
        "        if jug_to_fill==\"B\":\n",
        "\n",
        "            #filling jug a if empty\n",
        "\n",
        "            if juga==0:\n",
        "                juga=max1\n",
        "                print(F\"{juga}\\t{jugb}\")\n",
        "\n",
        "            #pouring a to b\n",
        "\n",
        "            transfer=min(juga,max2-jugb)\n",
        "            juga -= transfer\n",
        "            jugb += transfer\n",
        "            print(f\"{juga}\\t{jugb}\")\n",
        "\n",
        "            #if  jug b  full empty it\n",
        "\n",
        "            if jugb ==max2:\n",
        "                jugb=0\n",
        "                print(f\"{juga}\\t{jugb}\")\n",
        "        elif jug_to_fill==\"A\":\n",
        "\n",
        "            #fill jugb if its empty\n",
        "\n",
        "            if jugb==0:\n",
        "                jugb= max2\n",
        "                print(f\"{juga}\\t{jugb}\")\n",
        "\n",
        "\n",
        "                #pour jugb into jug a\n",
        "\n",
        "                transfer = min(jugb,max1-juga)\n",
        "                jugb-=transfer\n",
        "                juga+=transfer\n",
        "                print(f\"{juga}\\t{jugb}\")2\n",
        "\n",
        "\n",
        "                #if juga is full empty it\n",
        "\n",
        "                if juga==max1:\n",
        "                    juga=0\n",
        "                    print(f\"{juga}\\t{jugb}\")\n",
        "\n",
        "    print(\"Final state :jugA ={juga},jug B ={jugb}\\n\")\n",
        "\n",
        "\n",
        "max1=int(input('enter the max capacity of jug a'))\n",
        "max2=int(input('enter the max capacity of jug b'))\n",
        "fill_b=int(input('enter the quantity of fill jug B'))\n",
        "\n",
        "fill_jug_to_target(max1,max2,fill_b,\"B\")\n",
        "\n",
        "fill_a=int(input('enter the quantity to fill juga'))\n",
        "fill_jug_to_target(max1,max2,fill_a,\"A\")\n",
        ""
      ]
    },
    {
      "cell_type": "code",
      "source": [],
      "metadata": {
        "id": "yVovhMx1N9jB"
      },
      "execution_count": null,
      "outputs": []
    }
  ]
}